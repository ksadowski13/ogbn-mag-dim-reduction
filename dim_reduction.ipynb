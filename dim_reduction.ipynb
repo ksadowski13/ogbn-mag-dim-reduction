{
 "cells": [
  {
   "cell_type": "code",
   "execution_count": 7,
   "metadata": {},
   "outputs": [],
   "source": [
    "import matplotlib.pyplot as plt\n",
    "import numpy as np\n",
    "\n",
    "from sklearn.manifold import TSNE\n",
    "from ogb.nodeproppred import DglNodePropPredDataset\n",
    "from umap import UMAP"
   ]
  },
  {
   "cell_type": "code",
   "execution_count": 3,
   "metadata": {},
   "outputs": [],
   "source": [
    "dataset = DglNodePropPredDataset('ogbn-mag', root='/home/ksadowski/datasets')\n",
    "g = dataset[0][0]\n",
    "\n",
    "predict_category = 'paper'\n",
    "\n",
    "split_idx = dataset.get_idx_split()\n",
    "train_idx = split_idx['train'][predict_category].numpy()\n",
    "valid_idx = split_idx['valid'][predict_category].numpy()\n",
    "test_idx = split_idx['test'][predict_category].numpy()\n",
    "\n",
    "X = g.ndata['feat'][predict_category].numpy()"
   ]
  },
  {
   "cell_type": "code",
   "execution_count": 13,
   "metadata": {},
   "outputs": [
    {
     "name": "stdout",
     "output_type": "stream",
     "text": [
      "UMAP(dens_frac=0.0, dens_lambda=0.0, random_state=13, verbose=True)\n",
      "Construct fuzzy simplicial set\n",
      "Tue Oct 26 14:40:23 2021 Finding Nearest Neighbors\n",
      "Tue Oct 26 14:40:23 2021 Building RP forest with 48 trees\n",
      "Tue Oct 26 14:40:30 2021 NN descent for 19 iterations\n",
      "\t 1  /  19\n",
      "\t 2  /  19\n",
      "\t 3  /  19\n",
      "\t 4  /  19\n",
      "\t 5  /  19\n",
      "\t 6  /  19\n",
      "\tStopping threshold met -- exiting after 6 iterations\n",
      "Tue Oct 26 14:41:05 2021 Finished Nearest Neighbor Search\n",
      "Tue Oct 26 14:41:09 2021 Construct embedding\n",
      "\tcompleted  0  /  200 epochs\n",
      "\tcompleted  20  /  200 epochs\n",
      "\tcompleted  40  /  200 epochs\n",
      "\tcompleted  60  /  200 epochs\n",
      "\tcompleted  80  /  200 epochs\n",
      "\tcompleted  100  /  200 epochs\n",
      "\tcompleted  120  /  200 epochs\n",
      "\tcompleted  140  /  200 epochs\n",
      "\tcompleted  160  /  200 epochs\n",
      "\tcompleted  180  /  200 epochs\n",
      "Tue Oct 26 14:55:30 2021 Finished embedding\n"
     ]
    }
   ],
   "source": [
    "# reducer = TSNE(random_state=13)\n",
    "reducer = UMAP(random_state=13, verbose=True)\n",
    "\n",
    "X_embedded = reducer.fit_transform(X)\n",
    "\n",
    "# np.save('./tsne_embedding.npy', X_embedded)\n",
    "np.save('./umap_embedding.npy', X_embedded)"
   ]
  },
  {
   "cell_type": "code",
   "execution_count": 8,
   "metadata": {},
   "outputs": [],
   "source": [
    "# X_embedded = np.load('./tsne_embedding.npy')\n",
    "# X_embedded = np.load('./umap_embedding.npy')"
   ]
  },
  {
   "cell_type": "code",
   "execution_count": 14,
   "metadata": {},
   "outputs": [
    {
     "data": {
      "image/png": "[encoded data removed]",
      "text/plain": [
       "<Figure size 432x288 with 1 Axes>"
      ]
     },
     "metadata": {
      "needs_background": "light"
     },
     "output_type": "display_data"
    }
   ],
   "source": [
    "plt.figure()\n",
    "\n",
    "plt.scatter(X_embedded[train_idx][0], X_embedded[train_idx][1], c='r', label='train')\n",
    "plt.scatter(X_embedded[valid_idx][0], X_embedded[valid_idx][1], c='g', label='valid')\n",
    "plt.scatter(X_embedded[test_idx][0], X_embedded[test_idx][1], c='b', label='test')\n",
    "\n",
    "plt.legend()\n",
    "plt.show()"
   ]
  }
 ],
 "metadata": {
  "interpreter": {
   "hash": "6d0ac083d5564be49237c341b14862a913023c56d493520fa5331b934ed23811"
  },
  "kernelspec": {
   "display_name": "Python 3.9.6 64-bit ('datascience-env': conda)",
   "name": "python3"
  },
  "language_info": {
   "codemirror_mode": {
    "name": "ipython",
    "version": 3
   },
   "file_extension": ".py",
   "mimetype": "text/x-python",
   "name": "python",
   "nbconvert_exporter": "python",
   "pygments_lexer": "ipython3",
   "version": "3.9.6"
  },
  "orig_nbformat": 4
 },
 "nbformat": 4,
 "nbformat_minor": 2
}
