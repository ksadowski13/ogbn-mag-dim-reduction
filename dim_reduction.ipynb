{
 "cells": [
  {
   "cell_type": "code",
   "execution_count": 7,
   "metadata": {},
   "outputs": [],
   "source": [
    "import matplotlib.pyplot as plt\n",
    "import numpy as np\n",
    "\n",
    "from sklearn.manifold import TSNE\n",
    "from ogb.nodeproppred import DglNodePropPredDataset\n",
    "from umap import UMAP"
   ]
  },
  {
   "cell_type": "code",
   "execution_count": 3,
   "metadata": {},
   "outputs": [],
   "source": [
    "dataset = DglNodePropPredDataset('ogbn-mag', root='/home/ksadowski/datasets')\n",
    "g = dataset[0][0]\n",
    "\n",
    "predict_category = 'paper'\n",
    "\n",
    "split_idx = dataset.get_idx_split()\n",
    "train_idx = split_idx['train'][predict_category].numpy()\n",
    "valid_idx = split_idx['valid'][predict_category].numpy()\n",
    "test_idx = split_idx['test'][predict_category].numpy()\n",
    "\n",
    "X = g.ndata['feat'][predict_category].numpy()"
   ]
  },
  {
   "cell_type": "code",
   "execution_count": null,
   "metadata": {},
   "outputs": [],
   "source": [
    "# reducer = TSNE(random_state=13)\n",
    "reducer = UMAP(random_state=13)\n",
    "\n",
    "X_embedded = reducer.fit_transform(X)\n",
    "\n",
    "# np.save('./tsne_embedding.npy', X_embedded)\n",
    "np.save('./umap_embedding.npy', X_embedded)"
   ]
  },
  {
   "cell_type": "code",
   "execution_count": 8,
   "metadata": {},
   "outputs": [],
   "source": [
    "# X_embedded = np.load('./tsne_embedding.npy')\n",
    "# X_embedded = np.load('./umap_embedding.npy')"
   ]
  },
  {
   "cell_type": "code",
   "execution_count": 12,
   "metadata": {},
   "outputs": [
    {
     "data": {
      "image/png": "[encoded data removed]",
      "text/plain": [
       "<Figure size 432x288 with 1 Axes>"
      ]
     },
     "metadata": {
      "needs_background": "light"
     },
     "output_type": "display_data"
    }
   ],
   "source": [
    "plt.figure()\n",
    "\n",
    "plt.scatter(X_embedded[train_idx][0], X_embedded[train_idx][1], c='r', label='train')\n",
    "plt.scatter(X_embedded[valid_idx][0], X_embedded[valid_idx][1], c='g', label='valid')\n",
    "plt.scatter(X_embedded[test_idx][0], X_embedded[test_idx][1], c='b', label='test')\n",
    "\n",
    "plt.legend()\n",
    "plt.show()"
   ]
  }
 ],
 "metadata": {
  "interpreter": {
   "hash": "6d0ac083d5564be49237c341b14862a913023c56d493520fa5331b934ed23811"
  },
  "kernelspec": {
   "display_name": "Python 3.9.6 64-bit ('datascience-env': conda)",
   "name": "python3"
  },
  "language_info": {
   "codemirror_mode": {
    "name": "ipython",
    "version": 3
   },
   "file_extension": ".py",
   "mimetype": "text/x-python",
   "name": "python",
   "nbconvert_exporter": "python",
   "pygments_lexer": "ipython3",
   "version": "3.9.6"
  },
  "orig_nbformat": 4
 },
 "nbformat": 4,
 "nbformat_minor": 2
}
